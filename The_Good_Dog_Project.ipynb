{
  "nbformat": 4,
  "nbformat_minor": 0,
  "metadata": {
    "colab": {
      "provenance": [],
      "authorship_tag": "ABX9TyO7erEs4tr3qfzXZOVT7DH1",
      "include_colab_link": true
    },
    "kernelspec": {
      "name": "python3",
      "display_name": "Python 3"
    },
    "language_info": {
      "name": "python"
    }
  },
  "cells": [
    {
      "cell_type": "markdown",
      "metadata": {
        "id": "view-in-github",
        "colab_type": "text"
      },
      "source": [
        "<a href=\"https://colab.research.google.com/github/hmblackwood/The-Good-Dog-Project/blob/main/The_Good_Dog_Project.ipynb\" target=\"_parent\"><img src=\"https://colab.research.google.com/assets/colab-badge.svg\" alt=\"Open In Colab\"/></a>"
      ]
    },
    {
      "cell_type": "markdown",
      "source": [
        "#🐕 The Good Dog Project 🦮"
      ],
      "metadata": {
        "id": "Oja1cZI_CbA7"
      }
    },
    {
      "cell_type": "markdown",
      "source": [
        "I created a multi-class image classifier model with Tensorflow 2.0 to identify the breed of dog based on an image.\n",
        "\n",
        "1. Problem\n",
        "Identify the breed of a dog based on an image.\n",
        "\n",
        "2. Data\n",
        "The data is from the Dog Breed Indentification Completition on Kaggle.\n",
        "https://www.kaggle.com/c/dog-breed-identification/data\n",
        "\n"
      ],
      "metadata": {
        "id": "RQGkOsIQCmuK"
      }
    },
    {
      "cell_type": "code",
      "execution_count": null,
      "metadata": {
        "id": "BswBJpyyCM5i"
      },
      "outputs": [],
      "source": []
    }
  ]
}